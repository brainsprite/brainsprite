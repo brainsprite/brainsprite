{
  "cells": [
    {
      "cell_type": "markdown",
      "metadata": {},
      "source": [
        "# Statistical map viewer\n\nGenerate a brainsprite viewer for an activation map with an anatomical\nbackground, by populating an html template.\n"
      ]
    },
    {
      "cell_type": "markdown",
      "metadata": {},
      "source": [
        "First fetch the MNI high-resolution template and a functional statistical map.\n\n"
      ]
    },
    {
      "cell_type": "code",
      "execution_count": null,
      "metadata": {
        "collapsed": false
      },
      "outputs": [],
      "source": [
        "from nilearn import datasets\n\nanat = datasets.MNI152_FILE_PATH\n\n# one motor contrast map from NeuroVault\nstat_img = datasets.load_sample_motor_activation_image()"
      ]
    },
    {
      "cell_type": "markdown",
      "metadata": {},
      "source": [
        "We are going to use the same template and instruction as in the\n[plot_anat](plot_anat.html) tutorial. The defaults are set for a functional\nmap, so there is not much to do. We still tweak a couple parameters to get a\nclean map:\n\n * apply a threshold to get rid of small activation (:code:`threshold`),\n * reduce the opacity of the overlay to see the underlying anatomy (:code:`opacity`)\n * Put a title inside the figure (:code:`title`)\n * manually specify the cut coordinates (:code:`cut_coords`)\n\n"
      ]
    },
    {
      "cell_type": "code",
      "execution_count": null,
      "metadata": {
        "collapsed": false
      },
      "outputs": [],
      "source": [
        "from brainsprite import viewer_substitute\n\nbsprite = viewer_substitute(\n    threshold=3,\n    opacity=0.5,\n    title=\"plot_stat_map\",\n    cut_coords=[36, -27, 66],\n    radiological=True,\n)\nbsprite.fit(stat_img, bg_img=anat)"
      ]
    },
    {
      "cell_type": "markdown",
      "metadata": {},
      "source": [
        "We can now open the template with tempita, and fill it with the required\ninformation. The parameters indicate which tempita names we used in the\ntemplate for the javascript, html and library code, respectively.\n\n"
      ]
    },
    {
      "cell_type": "code",
      "execution_count": null,
      "metadata": {
        "collapsed": false
      },
      "outputs": [],
      "source": [
        "from pathlib import Path\n\nimport tempita\n\nexamples_dir = Path.cwd()\nif examples_dir.name != \"examples\":\n    examples_dir = examples_dir / \"examples\"\nfile_template = examples_dir / \"viewer_template.html\"\ntemplate = tempita.Template.from_filename(file_template, encoding=\"utf-8\")\n\nviewer = bsprite.transform(template, javascript=\"js\", html=\"html\", library=\"bsprite\")\n\n# In a Jupyter notebook, if ``view`` is the output of a cell, it will\n# be displayed below the cell\nviewer"
      ]
    },
    {
      "cell_type": "markdown",
      "metadata": {},
      "source": [
        "The following instruction can be used to save the viewer in a stand-alone,\nhtml document:\n\n"
      ]
    },
    {
      "cell_type": "code",
      "execution_count": null,
      "metadata": {
        "collapsed": false
      },
      "outputs": [],
      "source": [
        "viewer.save_as_html(examples_dir / \"plot_stat_map.html\")"
      ]
    },
    {
      "cell_type": "markdown",
      "metadata": {},
      "source": [
        "There are a lot more control one can use to modify the appearance of the\nbrain viewer. Check the Python API for more information.\n\n"
      ]
    }
  ],
  "metadata": {
    "kernelspec": {
      "display_name": "Python 3",
      "language": "python",
      "name": "python3"
    },
    "language_info": {
      "codemirror_mode": {
        "name": "ipython",
        "version": 3
      },
      "file_extension": ".py",
      "mimetype": "text/x-python",
      "name": "python",
      "nbconvert_exporter": "python",
      "pygments_lexer": "ipython3",
      "version": "3.10.19"
    }
  },
  "nbformat": 4,
  "nbformat_minor": 0
}