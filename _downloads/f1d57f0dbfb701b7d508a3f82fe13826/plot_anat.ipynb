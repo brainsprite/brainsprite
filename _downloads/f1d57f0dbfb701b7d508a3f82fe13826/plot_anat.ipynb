{
  "cells": [
    {
      "cell_type": "markdown",
      "metadata": {},
      "source": [
        "# Anatomical scan viewer\n\nGenerate a brainsprite viewer for an anatomical MRI scan, by populating an html\ntemplate.\n"
      ]
    },
    {
      "cell_type": "markdown",
      "metadata": {},
      "source": [
        "We first download an anatomical scan through one of nilearn's fetcher:\n\n"
      ]
    },
    {
      "cell_type": "code",
      "execution_count": null,
      "metadata": {
        "collapsed": false
      },
      "outputs": [],
      "source": [
        "from nilearn import datasets\n\n# one anatomical scan from the haxby dataset\nhaxby_dataset = datasets.fetch_haxby()\nhaxby_anat_filename = haxby_dataset.anat[0]"
      ]
    },
    {
      "cell_type": "markdown",
      "metadata": {},
      "source": [
        "Now let's have a look at a generic html template, and focus on the parts that need\nto be filled in:\n\n.. literalinclude:: ../_static/viewer_template.html\n   :language: html\n   :emphasize-lines: 5-8,12-15,22-25\n   :linenos:\n\n"
      ]
    },
    {
      "cell_type": "markdown",
      "metadata": {},
      "source": [
        "The parts with :code:`{{ }}` are part of the tempita language, and means that\nwe need to populate these parts with three types of brainsprite code: an html\nsnippet, a javascript snippet, and the brainsprite.js library itself. Let's use\n:code:`viewer_substitute` to generate the necessary code, and substitute this\ncode in the template. In terms of the parameters, the defaults are set for a\nfunctional map, and we will need to specify a few arguments to get the right\naspect:\n\n * use a gray colormap (:code:`cmap`),\n * do not to a symmetric colormap, centered around zero (:code:`symmetric_cmap`)\n * pick colors matching a black background (:code:`black_bg`)\n * set the maximum value displayed in the image to increase contrast (:code:`vmax`)\n * add a title to the viewer (:code:`title`)\n\n"
      ]
    },
    {
      "cell_type": "code",
      "execution_count": null,
      "metadata": {
        "collapsed": false
      },
      "outputs": [],
      "source": [
        "from brainsprite import viewer_substitute\n\nbsprite = viewer_substitute(\n    cmap=\"gray\",\n    symmetric_cmap=False,\n    black_bg=True,\n    threshold=None,\n    vmax=250,\n    title=\"anatomical scan\",\n    value=False,\n    radiological=False,\n)\nbsprite.fit(haxby_anat_filename)"
      ]
    },
    {
      "cell_type": "markdown",
      "metadata": {},
      "source": [
        "We can now open the template with tempita, and fill it with the required\ninformation. The parameters indicate which tempita names we used in the\ntemplate for the javascript, html and library code, respectively.\n\n"
      ]
    },
    {
      "cell_type": "code",
      "execution_count": null,
      "metadata": {
        "collapsed": false
      },
      "outputs": [],
      "source": [
        "from pathlib import Path\n\nimport tempita\n\nexamples_dir = Path.cwd()\nif examples_dir.name != \"examples\":\n    examples_dir = examples_dir / \"examples\"\nfile_template = examples_dir / \"viewer_template.html\"\ntemplate = tempita.Template.from_filename(file_template, encoding=\"utf-8\")\n\nviewer = bsprite.transform(template, javascript=\"js\", html=\"html\", library=\"bsprite\")"
      ]
    },
    {
      "cell_type": "markdown",
      "metadata": {},
      "source": [
        "The object :code:`viewer` can be called directly to insert the viewer inside\na jupyter notebook:\n\n"
      ]
    },
    {
      "cell_type": "code",
      "execution_count": null,
      "metadata": {
        "collapsed": false
      },
      "outputs": [],
      "source": [
        "viewer"
      ]
    },
    {
      "cell_type": "markdown",
      "metadata": {},
      "source": [
        "viewer.open_in_browser()\n\n"
      ]
    },
    {
      "cell_type": "markdown",
      "metadata": {},
      "source": [
        "The following instruction can be used to save the viewer in a stand-alone,\nhtml document:\n\n"
      ]
    },
    {
      "cell_type": "code",
      "execution_count": null,
      "metadata": {
        "collapsed": false
      },
      "outputs": [],
      "source": [
        "viewer.save_as_html(examples_dir / \"plot_anat.html\")"
      ]
    },
    {
      "cell_type": "markdown",
      "metadata": {},
      "source": [
        "It is possible to include this html page as an iframe in\nanother html document, using the following snippet.\n\n```html\n<iframe src=\"plot_anat.html\"></iframe>\n```\nNote that the style of the iframe may need to be modified in\norder to, e.g. center the iframe in the page.\nThis is better done through css, but here is an example of\nin-line html styling with centering and adapting the size of the iframe to\nthe size of the image (the width and height of the viewer can be found in\n:code:`bsprite.width_` and :code:`bsprite.height_`, respectively):\n\n```html\n<iframe src=\"plot_anat.html\" width=500 height=200\n    style=\"padding:0; border:0; display: block;\n    margin-left: auto; margin-right: auto\"></iframe>\n```\n"
      ]
    },
    {
      "cell_type": "markdown",
      "metadata": {},
      "source": [
        "The templating approach presented here is generic, and allows to insert one\nor multiple viewers in any html document template.\n\n"
      ]
    }
  ],
  "metadata": {
    "kernelspec": {
      "display_name": "Python 3",
      "language": "python",
      "name": "python3"
    },
    "language_info": {
      "codemirror_mode": {
        "name": "ipython",
        "version": 3
      },
      "file_extension": ".py",
      "mimetype": "text/x-python",
      "name": "python",
      "nbconvert_exporter": "python",
      "pygments_lexer": "ipython3",
      "version": "3.10.19"
    }
  },
  "nbformat": 4,
  "nbformat_minor": 0
}